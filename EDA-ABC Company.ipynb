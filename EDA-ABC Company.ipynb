{
 "cells": [
  {
   "cell_type": "markdown",
   "id": "702dc2ec-29d7-4100-9e20-af41790ae4cf",
   "metadata": {},
   "source": [
    "# <div style=\"text-align:center;\"> <font color=\"green\">Exploratory Data Analysis (EDA)</font></div>"
   ]
  },
  {
   "cell_type": "markdown",
   "id": "65c01807-6d7b-4c75-88b0-fb597e9cf3b0",
   "metadata": {},
   "source": [
    "### Here I am conducting an Exploratory Data Analysis (EDA) with a dataset provided by ABC Company. The dataset comprises 458 rows and 9 columns, containing information about the company's employees across different teams. The company requires a comprehensive report summarizing the details of their employees' demographics, roles, and team distributions.\n",
    "\n"
   ]
  },
  {
   "cell_type": "markdown",
   "id": "081bf09c-4faf-416f-b90d-6e613df29113",
   "metadata": {},
   "source": [
    "#### <font color=\"red\"> Import all necessary modules</font>."
   ]
  },
  {
   "cell_type": "code",
   "execution_count": 1,
   "id": "f08d947b-15ea-4422-84c9-5efe087d0f1b",
   "metadata": {},
   "outputs": [],
   "source": [
    "import numpy as np\n",
    "import pandas as pd\n",
    "import seaborn as sns\n",
    "import matplotlib.pyplot as plt"
   ]
  },
  {
   "cell_type": "markdown",
   "id": "3ddec385-8527-4a28-b67b-b5a54eb4ea7d",
   "metadata": {},
   "source": [
    "#### <font color=\"red\"> Create a dataframe by uploading a csv file </font>"
   ]
  },
  {
   "cell_type": "code",
   "execution_count": 2,
   "id": "c64e40bc-9cbb-4151-ae79-2a45c3c6e198",
   "metadata": {},
   "outputs": [
    {
     "data": {
      "text/html": [
       "<div>\n",
       "<style scoped>\n",
       "    .dataframe tbody tr th:only-of-type {\n",
       "        vertical-align: middle;\n",
       "    }\n",
       "\n",
       "    .dataframe tbody tr th {\n",
       "        vertical-align: top;\n",
       "    }\n",
       "\n",
       "    .dataframe thead th {\n",
       "        text-align: right;\n",
       "    }\n",
       "</style>\n",
       "<table border=\"1\" class=\"dataframe\">\n",
       "  <thead>\n",
       "    <tr style=\"text-align: right;\">\n",
       "      <th></th>\n",
       "      <th>Name</th>\n",
       "      <th>Team</th>\n",
       "      <th>Number</th>\n",
       "      <th>Position</th>\n",
       "      <th>Age</th>\n",
       "      <th>Height</th>\n",
       "      <th>Weight</th>\n",
       "      <th>College</th>\n",
       "      <th>Salary</th>\n",
       "    </tr>\n",
       "  </thead>\n",
       "  <tbody>\n",
       "    <tr>\n",
       "      <th>0</th>\n",
       "      <td>Avery Bradley</td>\n",
       "      <td>Boston Celtics</td>\n",
       "      <td>0</td>\n",
       "      <td>PG</td>\n",
       "      <td>25</td>\n",
       "      <td>06-Feb</td>\n",
       "      <td>180</td>\n",
       "      <td>Texas</td>\n",
       "      <td>7730337.0</td>\n",
       "    </tr>\n",
       "    <tr>\n",
       "      <th>1</th>\n",
       "      <td>Jae Crowder</td>\n",
       "      <td>Boston Celtics</td>\n",
       "      <td>99</td>\n",
       "      <td>SF</td>\n",
       "      <td>25</td>\n",
       "      <td>06-Jun</td>\n",
       "      <td>235</td>\n",
       "      <td>Marquette</td>\n",
       "      <td>6796117.0</td>\n",
       "    </tr>\n",
       "    <tr>\n",
       "      <th>2</th>\n",
       "      <td>John Holland</td>\n",
       "      <td>Boston Celtics</td>\n",
       "      <td>30</td>\n",
       "      <td>SG</td>\n",
       "      <td>27</td>\n",
       "      <td>06-May</td>\n",
       "      <td>205</td>\n",
       "      <td>Boston University</td>\n",
       "      <td>NaN</td>\n",
       "    </tr>\n",
       "    <tr>\n",
       "      <th>3</th>\n",
       "      <td>R.J. Hunter</td>\n",
       "      <td>Boston Celtics</td>\n",
       "      <td>28</td>\n",
       "      <td>SG</td>\n",
       "      <td>22</td>\n",
       "      <td>06-May</td>\n",
       "      <td>185</td>\n",
       "      <td>Georgia State</td>\n",
       "      <td>1148640.0</td>\n",
       "    </tr>\n",
       "    <tr>\n",
       "      <th>4</th>\n",
       "      <td>Jonas Jerebko</td>\n",
       "      <td>Boston Celtics</td>\n",
       "      <td>8</td>\n",
       "      <td>PF</td>\n",
       "      <td>29</td>\n",
       "      <td>06-Oct</td>\n",
       "      <td>231</td>\n",
       "      <td>NaN</td>\n",
       "      <td>5000000.0</td>\n",
       "    </tr>\n",
       "    <tr>\n",
       "      <th>...</th>\n",
       "      <td>...</td>\n",
       "      <td>...</td>\n",
       "      <td>...</td>\n",
       "      <td>...</td>\n",
       "      <td>...</td>\n",
       "      <td>...</td>\n",
       "      <td>...</td>\n",
       "      <td>...</td>\n",
       "      <td>...</td>\n",
       "    </tr>\n",
       "    <tr>\n",
       "      <th>453</th>\n",
       "      <td>Shelvin Mack</td>\n",
       "      <td>Utah Jazz</td>\n",
       "      <td>8</td>\n",
       "      <td>PG</td>\n",
       "      <td>26</td>\n",
       "      <td>06-Mar</td>\n",
       "      <td>203</td>\n",
       "      <td>Butler</td>\n",
       "      <td>2433333.0</td>\n",
       "    </tr>\n",
       "    <tr>\n",
       "      <th>454</th>\n",
       "      <td>Raul Neto</td>\n",
       "      <td>Utah Jazz</td>\n",
       "      <td>25</td>\n",
       "      <td>PG</td>\n",
       "      <td>24</td>\n",
       "      <td>06-Jan</td>\n",
       "      <td>179</td>\n",
       "      <td>NaN</td>\n",
       "      <td>900000.0</td>\n",
       "    </tr>\n",
       "    <tr>\n",
       "      <th>455</th>\n",
       "      <td>Tibor Pleiss</td>\n",
       "      <td>Utah Jazz</td>\n",
       "      <td>21</td>\n",
       "      <td>C</td>\n",
       "      <td>26</td>\n",
       "      <td>07-Mar</td>\n",
       "      <td>256</td>\n",
       "      <td>NaN</td>\n",
       "      <td>2900000.0</td>\n",
       "    </tr>\n",
       "    <tr>\n",
       "      <th>456</th>\n",
       "      <td>Jeff Withey</td>\n",
       "      <td>Utah Jazz</td>\n",
       "      <td>24</td>\n",
       "      <td>C</td>\n",
       "      <td>26</td>\n",
       "      <td>7-0</td>\n",
       "      <td>231</td>\n",
       "      <td>Kansas</td>\n",
       "      <td>947276.0</td>\n",
       "    </tr>\n",
       "    <tr>\n",
       "      <th>457</th>\n",
       "      <td>Priyanka</td>\n",
       "      <td>Utah Jazz</td>\n",
       "      <td>34</td>\n",
       "      <td>C</td>\n",
       "      <td>25</td>\n",
       "      <td>07-Mar</td>\n",
       "      <td>231</td>\n",
       "      <td>Kansas</td>\n",
       "      <td>947276.0</td>\n",
       "    </tr>\n",
       "  </tbody>\n",
       "</table>\n",
       "<p>458 rows × 9 columns</p>\n",
       "</div>"
      ],
      "text/plain": [
       "              Name            Team  Number Position  Age  Height  Weight  \\\n",
       "0    Avery Bradley  Boston Celtics       0       PG   25  06-Feb     180   \n",
       "1      Jae Crowder  Boston Celtics      99       SF   25  06-Jun     235   \n",
       "2     John Holland  Boston Celtics      30       SG   27  06-May     205   \n",
       "3      R.J. Hunter  Boston Celtics      28       SG   22  06-May     185   \n",
       "4    Jonas Jerebko  Boston Celtics       8       PF   29  06-Oct     231   \n",
       "..             ...             ...     ...      ...  ...     ...     ...   \n",
       "453   Shelvin Mack       Utah Jazz       8       PG   26  06-Mar     203   \n",
       "454      Raul Neto       Utah Jazz      25       PG   24  06-Jan     179   \n",
       "455   Tibor Pleiss       Utah Jazz      21        C   26  07-Mar     256   \n",
       "456    Jeff Withey       Utah Jazz      24        C   26     7-0     231   \n",
       "457       Priyanka       Utah Jazz      34        C   25  07-Mar     231   \n",
       "\n",
       "               College     Salary  \n",
       "0                Texas  7730337.0  \n",
       "1            Marquette  6796117.0  \n",
       "2    Boston University        NaN  \n",
       "3        Georgia State  1148640.0  \n",
       "4                  NaN  5000000.0  \n",
       "..                 ...        ...  \n",
       "453             Butler  2433333.0  \n",
       "454                NaN   900000.0  \n",
       "455                NaN  2900000.0  \n",
       "456             Kansas   947276.0  \n",
       "457             Kansas   947276.0  \n",
       "\n",
       "[458 rows x 9 columns]"
      ]
     },
     "execution_count": 2,
     "metadata": {},
     "output_type": "execute_result"
    }
   ],
   "source": [
    "emp=pd.read_csv('myexcel.csv')\n",
    "emp"
   ]
  },
  {
   "cell_type": "markdown",
   "id": "1b1550c5-399e-4526-bb69-0421860208f0",
   "metadata": {},
   "source": [
    "#### <font color=\"red\"> To get statistical summary of data including categorical columns </font>"
   ]
  },
  {
   "cell_type": "code",
   "execution_count": 3,
   "id": "0e91fdf0-c329-45fa-9e11-4447ebd3f3c7",
   "metadata": {},
   "outputs": [
    {
     "data": {
      "text/html": [
       "<div>\n",
       "<style scoped>\n",
       "    .dataframe tbody tr th:only-of-type {\n",
       "        vertical-align: middle;\n",
       "    }\n",
       "\n",
       "    .dataframe tbody tr th {\n",
       "        vertical-align: top;\n",
       "    }\n",
       "\n",
       "    .dataframe thead th {\n",
       "        text-align: right;\n",
       "    }\n",
       "</style>\n",
       "<table border=\"1\" class=\"dataframe\">\n",
       "  <thead>\n",
       "    <tr style=\"text-align: right;\">\n",
       "      <th></th>\n",
       "      <th>Name</th>\n",
       "      <th>Team</th>\n",
       "      <th>Number</th>\n",
       "      <th>Position</th>\n",
       "      <th>Age</th>\n",
       "      <th>Height</th>\n",
       "      <th>Weight</th>\n",
       "      <th>College</th>\n",
       "      <th>Salary</th>\n",
       "    </tr>\n",
       "  </thead>\n",
       "  <tbody>\n",
       "    <tr>\n",
       "      <th>count</th>\n",
       "      <td>458</td>\n",
       "      <td>458</td>\n",
       "      <td>458.000000</td>\n",
       "      <td>458</td>\n",
       "      <td>458.000000</td>\n",
       "      <td>458</td>\n",
       "      <td>458.000000</td>\n",
       "      <td>374</td>\n",
       "      <td>4.470000e+02</td>\n",
       "    </tr>\n",
       "    <tr>\n",
       "      <th>unique</th>\n",
       "      <td>458</td>\n",
       "      <td>30</td>\n",
       "      <td>NaN</td>\n",
       "      <td>5</td>\n",
       "      <td>NaN</td>\n",
       "      <td>18</td>\n",
       "      <td>NaN</td>\n",
       "      <td>118</td>\n",
       "      <td>NaN</td>\n",
       "    </tr>\n",
       "    <tr>\n",
       "      <th>top</th>\n",
       "      <td>Avery Bradley</td>\n",
       "      <td>New Orleans Pelicans</td>\n",
       "      <td>NaN</td>\n",
       "      <td>SG</td>\n",
       "      <td>NaN</td>\n",
       "      <td>06-Sep</td>\n",
       "      <td>NaN</td>\n",
       "      <td>Kentucky</td>\n",
       "      <td>NaN</td>\n",
       "    </tr>\n",
       "    <tr>\n",
       "      <th>freq</th>\n",
       "      <td>1</td>\n",
       "      <td>19</td>\n",
       "      <td>NaN</td>\n",
       "      <td>102</td>\n",
       "      <td>NaN</td>\n",
       "      <td>59</td>\n",
       "      <td>NaN</td>\n",
       "      <td>22</td>\n",
       "      <td>NaN</td>\n",
       "    </tr>\n",
       "    <tr>\n",
       "      <th>mean</th>\n",
       "      <td>NaN</td>\n",
       "      <td>NaN</td>\n",
       "      <td>17.713974</td>\n",
       "      <td>NaN</td>\n",
       "      <td>26.934498</td>\n",
       "      <td>NaN</td>\n",
       "      <td>221.543668</td>\n",
       "      <td>NaN</td>\n",
       "      <td>4.833970e+06</td>\n",
       "    </tr>\n",
       "    <tr>\n",
       "      <th>std</th>\n",
       "      <td>NaN</td>\n",
       "      <td>NaN</td>\n",
       "      <td>15.966837</td>\n",
       "      <td>NaN</td>\n",
       "      <td>4.400128</td>\n",
       "      <td>NaN</td>\n",
       "      <td>26.343200</td>\n",
       "      <td>NaN</td>\n",
       "      <td>5.226620e+06</td>\n",
       "    </tr>\n",
       "    <tr>\n",
       "      <th>min</th>\n",
       "      <td>NaN</td>\n",
       "      <td>NaN</td>\n",
       "      <td>0.000000</td>\n",
       "      <td>NaN</td>\n",
       "      <td>19.000000</td>\n",
       "      <td>NaN</td>\n",
       "      <td>161.000000</td>\n",
       "      <td>NaN</td>\n",
       "      <td>3.088800e+04</td>\n",
       "    </tr>\n",
       "    <tr>\n",
       "      <th>25%</th>\n",
       "      <td>NaN</td>\n",
       "      <td>NaN</td>\n",
       "      <td>5.000000</td>\n",
       "      <td>NaN</td>\n",
       "      <td>24.000000</td>\n",
       "      <td>NaN</td>\n",
       "      <td>200.000000</td>\n",
       "      <td>NaN</td>\n",
       "      <td>1.025210e+06</td>\n",
       "    </tr>\n",
       "    <tr>\n",
       "      <th>50%</th>\n",
       "      <td>NaN</td>\n",
       "      <td>NaN</td>\n",
       "      <td>13.000000</td>\n",
       "      <td>NaN</td>\n",
       "      <td>26.000000</td>\n",
       "      <td>NaN</td>\n",
       "      <td>220.000000</td>\n",
       "      <td>NaN</td>\n",
       "      <td>2.836186e+06</td>\n",
       "    </tr>\n",
       "    <tr>\n",
       "      <th>75%</th>\n",
       "      <td>NaN</td>\n",
       "      <td>NaN</td>\n",
       "      <td>25.000000</td>\n",
       "      <td>NaN</td>\n",
       "      <td>30.000000</td>\n",
       "      <td>NaN</td>\n",
       "      <td>240.000000</td>\n",
       "      <td>NaN</td>\n",
       "      <td>6.500000e+06</td>\n",
       "    </tr>\n",
       "    <tr>\n",
       "      <th>max</th>\n",
       "      <td>NaN</td>\n",
       "      <td>NaN</td>\n",
       "      <td>99.000000</td>\n",
       "      <td>NaN</td>\n",
       "      <td>40.000000</td>\n",
       "      <td>NaN</td>\n",
       "      <td>307.000000</td>\n",
       "      <td>NaN</td>\n",
       "      <td>2.500000e+07</td>\n",
       "    </tr>\n",
       "  </tbody>\n",
       "</table>\n",
       "</div>"
      ],
      "text/plain": [
       "                 Name                  Team      Number Position         Age  \\\n",
       "count             458                   458  458.000000      458  458.000000   \n",
       "unique            458                    30         NaN        5         NaN   \n",
       "top     Avery Bradley  New Orleans Pelicans         NaN       SG         NaN   \n",
       "freq                1                    19         NaN      102         NaN   \n",
       "mean              NaN                   NaN   17.713974      NaN   26.934498   \n",
       "std               NaN                   NaN   15.966837      NaN    4.400128   \n",
       "min               NaN                   NaN    0.000000      NaN   19.000000   \n",
       "25%               NaN                   NaN    5.000000      NaN   24.000000   \n",
       "50%               NaN                   NaN   13.000000      NaN   26.000000   \n",
       "75%               NaN                   NaN   25.000000      NaN   30.000000   \n",
       "max               NaN                   NaN   99.000000      NaN   40.000000   \n",
       "\n",
       "        Height      Weight   College        Salary  \n",
       "count      458  458.000000       374  4.470000e+02  \n",
       "unique      18         NaN       118           NaN  \n",
       "top     06-Sep         NaN  Kentucky           NaN  \n",
       "freq        59         NaN        22           NaN  \n",
       "mean       NaN  221.543668       NaN  4.833970e+06  \n",
       "std        NaN   26.343200       NaN  5.226620e+06  \n",
       "min        NaN  161.000000       NaN  3.088800e+04  \n",
       "25%        NaN  200.000000       NaN  1.025210e+06  \n",
       "50%        NaN  220.000000       NaN  2.836186e+06  \n",
       "75%        NaN  240.000000       NaN  6.500000e+06  \n",
       "max        NaN  307.000000       NaN  2.500000e+07  "
      ]
     },
     "execution_count": 3,
     "metadata": {},
     "output_type": "execute_result"
    }
   ],
   "source": [
    "emp.describe(include='all')"
   ]
  },
  {
   "cell_type": "markdown",
   "id": "56c4f0cb-d3eb-4696-bb2e-dd6589a6c416",
   "metadata": {},
   "source": [
    "#### <font color=\"red\"> To get columns,non-null values and datatype </font>"
   ]
  },
  {
   "cell_type": "code",
   "execution_count": 4,
   "id": "82747214-dc86-468a-8f0f-120ab5d24160",
   "metadata": {},
   "outputs": [
    {
     "name": "stdout",
     "output_type": "stream",
     "text": [
      "<class 'pandas.core.frame.DataFrame'>\n",
      "RangeIndex: 458 entries, 0 to 457\n",
      "Data columns (total 9 columns):\n",
      " #   Column    Non-Null Count  Dtype  \n",
      "---  ------    --------------  -----  \n",
      " 0   Name      458 non-null    object \n",
      " 1   Team      458 non-null    object \n",
      " 2   Number    458 non-null    int64  \n",
      " 3   Position  458 non-null    object \n",
      " 4   Age       458 non-null    int64  \n",
      " 5   Height    458 non-null    object \n",
      " 6   Weight    458 non-null    int64  \n",
      " 7   College   374 non-null    object \n",
      " 8   Salary    447 non-null    float64\n",
      "dtypes: float64(1), int64(3), object(5)\n",
      "memory usage: 32.3+ KB\n"
     ]
    }
   ],
   "source": [
    "emp.info()"
   ]
  },
  {
   "cell_type": "markdown",
   "id": "a73c48a9-1620-467a-a564-40566fc92615",
   "metadata": {},
   "source": [
    "#### <font color=\"red\"> To check if there is any missing values  </font> "
   ]
  },
  {
   "cell_type": "code",
   "execution_count": 5,
   "id": "abd4fdec-2f12-433b-9401-eee7aff8987c",
   "metadata": {},
   "outputs": [
    {
     "data": {
      "text/plain": [
       "Name         0\n",
       "Team         0\n",
       "Number       0\n",
       "Position     0\n",
       "Age          0\n",
       "Height       0\n",
       "Weight       0\n",
       "College     84\n",
       "Salary      11\n",
       "dtype: int64"
      ]
     },
     "execution_count": 5,
     "metadata": {},
     "output_type": "execute_result"
    }
   ],
   "source": [
    "emp.isnull().sum()"
   ]
  },
  {
   "cell_type": "markdown",
   "id": "955ec8b3-33f0-458a-8a72-f58d1425010c",
   "metadata": {},
   "source": [
    "#### <font color=\"purple\">Here 'College' and 'Salary' columns have null values</font>"
   ]
  },
  {
   "cell_type": "markdown",
   "id": "7fa2c1ae-d9dd-47ac-ad2a-276412e74f90",
   "metadata": {},
   "source": [
    "#### <font color=\"red\"> To check if there is any duplicates  </font> "
   ]
  },
  {
   "cell_type": "code",
   "execution_count": 6,
   "id": "37793084-eb16-4404-a0ac-e4a4669224eb",
   "metadata": {},
   "outputs": [
    {
     "data": {
      "text/plain": [
       "0"
      ]
     },
     "execution_count": 6,
     "metadata": {},
     "output_type": "execute_result"
    }
   ],
   "source": [
    "emp.duplicated().sum()"
   ]
  },
  {
   "cell_type": "markdown",
   "id": "50ccea04-f114-4879-afba-3d0b55885960",
   "metadata": {},
   "source": [
    "#### <font color=\"red\"> To view column names  </font>  "
   ]
  },
  {
   "cell_type": "code",
   "execution_count": 7,
   "id": "01900cae-c75b-4b75-8e6b-f7b32767e29f",
   "metadata": {},
   "outputs": [
    {
     "data": {
      "text/plain": [
       "Index(['Name', 'Team', 'Number', 'Position', 'Age', 'Height', 'Weight',\n",
       "       'College', 'Salary'],\n",
       "      dtype='object')"
      ]
     },
     "execution_count": 7,
     "metadata": {},
     "output_type": "execute_result"
    }
   ],
   "source": [
    "emp.columns"
   ]
  },
  {
   "cell_type": "markdown",
   "id": "2a0fbb94-ef4b-44de-967e-b4a845765fd9",
   "metadata": {},
   "source": [
    "### <font color=\"orange\"> Preprocessing : Correct the data in the \"height\" column by replacing it with random numbers between 150 and 180. Ensure data consistency and integrity before proceeding with analysis.  </font>  ."
   ]
  },
  {
   "cell_type": "markdown",
   "id": "6b9ae3a4-f885-43d9-bd8f-95be8edf6b6d",
   "metadata": {},
   "source": [
    "random_heights=np.random.randint(150,180,size=len(emp))\n",
    "emp['Height']=random_heights\n",
    "print(emp['Height'])"
   ]
  },
  {
   "cell_type": "markdown",
   "id": "23894e96-b808-4e52-a7fe-57c6aff14265",
   "metadata": {},
   "source": [
    "#### <font color=\"purple\">Replaced the wrong data with new values</font>"
   ]
  },
  {
   "cell_type": "markdown",
   "id": "5d1ec24c-82f4-411a-8254-cedd4a4f01a3",
   "metadata": {},
   "source": [
    "#### <font color=\"red\"> To fill the values in null value columns 'Salary' and 'College'  </font>  "
   ]
  },
  {
   "cell_type": "code",
   "execution_count": 9,
   "id": "3041b908-0d9d-4539-b0bf-710e33fe576c",
   "metadata": {},
   "outputs": [
    {
     "data": {
      "text/html": [
       "<div>\n",
       "<style scoped>\n",
       "    .dataframe tbody tr th:only-of-type {\n",
       "        vertical-align: middle;\n",
       "    }\n",
       "\n",
       "    .dataframe tbody tr th {\n",
       "        vertical-align: top;\n",
       "    }\n",
       "\n",
       "    .dataframe thead th {\n",
       "        text-align: right;\n",
       "    }\n",
       "</style>\n",
       "<table border=\"1\" class=\"dataframe\">\n",
       "  <thead>\n",
       "    <tr style=\"text-align: right;\">\n",
       "      <th></th>\n",
       "      <th>Name</th>\n",
       "      <th>Team</th>\n",
       "      <th>Number</th>\n",
       "      <th>Position</th>\n",
       "      <th>Age</th>\n",
       "      <th>Height</th>\n",
       "      <th>Weight</th>\n",
       "      <th>College</th>\n",
       "      <th>Salary</th>\n",
       "    </tr>\n",
       "  </thead>\n",
       "  <tbody>\n",
       "    <tr>\n",
       "      <th>0</th>\n",
       "      <td>Avery Bradley</td>\n",
       "      <td>Boston Celtics</td>\n",
       "      <td>0</td>\n",
       "      <td>PG</td>\n",
       "      <td>25</td>\n",
       "      <td>170</td>\n",
       "      <td>180</td>\n",
       "      <td>Texas</td>\n",
       "      <td>7730337.0</td>\n",
       "    </tr>\n",
       "    <tr>\n",
       "      <th>1</th>\n",
       "      <td>Jae Crowder</td>\n",
       "      <td>Boston Celtics</td>\n",
       "      <td>99</td>\n",
       "      <td>SF</td>\n",
       "      <td>25</td>\n",
       "      <td>174</td>\n",
       "      <td>235</td>\n",
       "      <td>Marquette</td>\n",
       "      <td>6796117.0</td>\n",
       "    </tr>\n",
       "    <tr>\n",
       "      <th>2</th>\n",
       "      <td>John Holland</td>\n",
       "      <td>Boston Celtics</td>\n",
       "      <td>30</td>\n",
       "      <td>SG</td>\n",
       "      <td>27</td>\n",
       "      <td>163</td>\n",
       "      <td>205</td>\n",
       "      <td>Boston University</td>\n",
       "      <td>Unknown</td>\n",
       "    </tr>\n",
       "    <tr>\n",
       "      <th>3</th>\n",
       "      <td>R.J. Hunter</td>\n",
       "      <td>Boston Celtics</td>\n",
       "      <td>28</td>\n",
       "      <td>SG</td>\n",
       "      <td>22</td>\n",
       "      <td>173</td>\n",
       "      <td>185</td>\n",
       "      <td>Georgia State</td>\n",
       "      <td>1148640.0</td>\n",
       "    </tr>\n",
       "    <tr>\n",
       "      <th>4</th>\n",
       "      <td>Jonas Jerebko</td>\n",
       "      <td>Boston Celtics</td>\n",
       "      <td>8</td>\n",
       "      <td>PF</td>\n",
       "      <td>29</td>\n",
       "      <td>169</td>\n",
       "      <td>231</td>\n",
       "      <td>Unknown</td>\n",
       "      <td>5000000.0</td>\n",
       "    </tr>\n",
       "    <tr>\n",
       "      <th>...</th>\n",
       "      <td>...</td>\n",
       "      <td>...</td>\n",
       "      <td>...</td>\n",
       "      <td>...</td>\n",
       "      <td>...</td>\n",
       "      <td>...</td>\n",
       "      <td>...</td>\n",
       "      <td>...</td>\n",
       "      <td>...</td>\n",
       "    </tr>\n",
       "    <tr>\n",
       "      <th>453</th>\n",
       "      <td>Shelvin Mack</td>\n",
       "      <td>Utah Jazz</td>\n",
       "      <td>8</td>\n",
       "      <td>PG</td>\n",
       "      <td>26</td>\n",
       "      <td>176</td>\n",
       "      <td>203</td>\n",
       "      <td>Butler</td>\n",
       "      <td>2433333.0</td>\n",
       "    </tr>\n",
       "    <tr>\n",
       "      <th>454</th>\n",
       "      <td>Raul Neto</td>\n",
       "      <td>Utah Jazz</td>\n",
       "      <td>25</td>\n",
       "      <td>PG</td>\n",
       "      <td>24</td>\n",
       "      <td>178</td>\n",
       "      <td>179</td>\n",
       "      <td>Unknown</td>\n",
       "      <td>900000.0</td>\n",
       "    </tr>\n",
       "    <tr>\n",
       "      <th>455</th>\n",
       "      <td>Tibor Pleiss</td>\n",
       "      <td>Utah Jazz</td>\n",
       "      <td>21</td>\n",
       "      <td>C</td>\n",
       "      <td>26</td>\n",
       "      <td>167</td>\n",
       "      <td>256</td>\n",
       "      <td>Unknown</td>\n",
       "      <td>2900000.0</td>\n",
       "    </tr>\n",
       "    <tr>\n",
       "      <th>456</th>\n",
       "      <td>Jeff Withey</td>\n",
       "      <td>Utah Jazz</td>\n",
       "      <td>24</td>\n",
       "      <td>C</td>\n",
       "      <td>26</td>\n",
       "      <td>177</td>\n",
       "      <td>231</td>\n",
       "      <td>Kansas</td>\n",
       "      <td>947276.0</td>\n",
       "    </tr>\n",
       "    <tr>\n",
       "      <th>457</th>\n",
       "      <td>Priyanka</td>\n",
       "      <td>Utah Jazz</td>\n",
       "      <td>34</td>\n",
       "      <td>C</td>\n",
       "      <td>25</td>\n",
       "      <td>172</td>\n",
       "      <td>231</td>\n",
       "      <td>Kansas</td>\n",
       "      <td>947276.0</td>\n",
       "    </tr>\n",
       "  </tbody>\n",
       "</table>\n",
       "<p>458 rows × 9 columns</p>\n",
       "</div>"
      ],
      "text/plain": [
       "              Name            Team  Number Position  Age  Height  Weight  \\\n",
       "0    Avery Bradley  Boston Celtics       0       PG   25     170     180   \n",
       "1      Jae Crowder  Boston Celtics      99       SF   25     174     235   \n",
       "2     John Holland  Boston Celtics      30       SG   27     163     205   \n",
       "3      R.J. Hunter  Boston Celtics      28       SG   22     173     185   \n",
       "4    Jonas Jerebko  Boston Celtics       8       PF   29     169     231   \n",
       "..             ...             ...     ...      ...  ...     ...     ...   \n",
       "453   Shelvin Mack       Utah Jazz       8       PG   26     176     203   \n",
       "454      Raul Neto       Utah Jazz      25       PG   24     178     179   \n",
       "455   Tibor Pleiss       Utah Jazz      21        C   26     167     256   \n",
       "456    Jeff Withey       Utah Jazz      24        C   26     177     231   \n",
       "457       Priyanka       Utah Jazz      34        C   25     172     231   \n",
       "\n",
       "               College     Salary  \n",
       "0                Texas  7730337.0  \n",
       "1            Marquette  6796117.0  \n",
       "2    Boston University    Unknown  \n",
       "3        Georgia State  1148640.0  \n",
       "4              Unknown  5000000.0  \n",
       "..                 ...        ...  \n",
       "453             Butler  2433333.0  \n",
       "454            Unknown   900000.0  \n",
       "455            Unknown  2900000.0  \n",
       "456             Kansas   947276.0  \n",
       "457             Kansas   947276.0  \n",
       "\n",
       "[458 rows x 9 columns]"
      ]
     },
     "execution_count": 9,
     "metadata": {},
     "output_type": "execute_result"
    }
   ],
   "source": [
    "emp.fillna('Unknown')"
   ]
  },
  {
   "cell_type": "markdown",
   "id": "cf78066f-40fe-4add-9538-b8963b78971b",
   "metadata": {},
   "source": [
    "### <font color=\"orange\"> 1. Determine the distribution of employees across each team and calculate the percentage split relative to the total number of employees</font>"
   ]
  },
  {
   "cell_type": "markdown",
   "id": "03186b85-a71e-4fd7-8524-db921d7a38b7",
   "metadata": {},
   "source": [
    "#### <font color=\"red\"> Create an another dataframe by using columns in main dataset and added a new calculated column</font>"
   ]
  },
  {
   "cell_type": "code",
   "execution_count": 11,
   "id": "17e2c7ad-0096-4e77-bb84-5840ccc30a03",
   "metadata": {},
   "outputs": [
    {
     "name": "stdout",
     "output_type": "stream",
     "text": [
      "                        Employees Count  Percentage Split (%)\n",
      "Team                                                         \n",
      "New Orleans Pelicans                 19              4.148472\n",
      "Memphis Grizzlies                    18              3.930131\n",
      "Utah Jazz                            16              3.493450\n",
      "New York Knicks                      16              3.493450\n",
      "Milwaukee Bucks                      16              3.493450\n",
      "Brooklyn Nets                        15              3.275109\n",
      "Portland Trail Blazers               15              3.275109\n",
      "Oklahoma City Thunder                15              3.275109\n",
      "Denver Nuggets                       15              3.275109\n",
      "Washington Wizards                   15              3.275109\n",
      "Miami Heat                           15              3.275109\n",
      "Charlotte Hornets                    15              3.275109\n",
      "Atlanta Hawks                        15              3.275109\n",
      "San Antonio Spurs                    15              3.275109\n",
      "Houston Rockets                      15              3.275109\n",
      "Boston Celtics                       15              3.275109\n",
      "Indiana Pacers                       15              3.275109\n",
      "Detroit Pistons                      15              3.275109\n",
      "Cleveland Cavaliers                  15              3.275109\n",
      "Chicago Bulls                        15              3.275109\n",
      "Sacramento Kings                     15              3.275109\n",
      "Phoenix Suns                         15              3.275109\n",
      "Los Angeles Lakers                   15              3.275109\n",
      "Los Angeles Clippers                 15              3.275109\n",
      "Golden State Warriors                15              3.275109\n",
      "Toronto Raptors                      15              3.275109\n",
      "Philadelphia 76ers                   15              3.275109\n",
      "Dallas Mavericks                     15              3.275109\n",
      "Orlando Magic                        14              3.056769\n",
      "Minnesota Timberwolves               14              3.056769\n"
     ]
    },
    {
     "data": {
      "image/png": "[encoded data removed]",
      "text/plain": [
       "<Figure size 640x480 with 1 Axes>"
      ]
     },
     "metadata": {},
     "output_type": "display_data"
    }
   ],
   "source": [
    "team_counts=emp['Team'].value_counts()\n",
    "percentage_split=(team_counts/len(emp))*100\n",
    "team_distribution = pd.DataFrame({'Employees Count': team_counts, 'Percentage Split (%)': percentage_split})\n",
    "print(team_distribution)\n",
    "plt.title('Distribution \"%\" of employees across each team')\n",
    "plt.pie(percentage_split)\n",
    "plt.show()"
   ]
  },
  {
   "cell_type": "markdown",
   "id": "77319ef8-66f3-46b3-b18d-c3a3e5c00981",
   "metadata": {},
   "source": [
    "### <font color=\"purple\">It looks like the distribution percentage of employees is almost same according to the pie chart.</font>\n",
    "### <font color=\"purple\">There is no remarkable variation or outliers.</font>"
   ]
  },
  {
   "cell_type": "markdown",
   "id": "d805c85c-c670-4b93-bb02-b471a30f2f7e",
   "metadata": {},
   "source": [
    "### <font color=\"orange\">2. Segregate employees based on their positions within the company.</font>\n"
   ]
  },
  {
   "cell_type": "markdown",
   "id": "78c51f5e-9879-4c47-b426-5afa6f5d5501",
   "metadata": {},
   "source": [
    "#### <font color=\"red\">Use seaborn to draw countplot </font>"
   ]
  },
  {
   "cell_type": "code",
   "execution_count": 13,
   "id": "08d56b2a-c79c-4828-a5f8-26cd268ed01f",
   "metadata": {},
   "outputs": [
    {
     "data": {
      "image/png": "[encoded data removed]",
      "text/plain": [
       "<Figure size 640x480 with 1 Axes>"
      ]
     },
     "metadata": {},
     "output_type": "display_data"
    }
   ],
   "source": [
    "sns.countplot(x='Position',hue='Position',data=emp,palette='rocket')\n",
    "plt.title('Employees based on their position')\n",
    "plt.grid(True)\n",
    "plt.show()"
   ]
  },
  {
   "cell_type": "markdown",
   "id": "2395eb10-12e9-43ab-b19c-8ed50332273a",
   "metadata": {},
   "source": [
    "### <font color=\"purple\">It looks like 'SG' is the position which has highest number in ABC Company.</font>\n",
    "### <font color=\"purple\">There is no huge variation between the number of employess in each positions.</font>\n",
    "### <font color=\"purple\">According to the dataset position 'C' has the lowest number.</font>"
   ]
  },
  {
   "cell_type": "markdown",
   "id": "e7b8ab99-ff62-4eeb-ae23-223a5aecfb81",
   "metadata": {},
   "source": [
    "### <font color=\"orange\">3. Identify the predominant age group among employees.</font>"
   ]
  },
  {
   "cell_type": "code",
   "execution_count": 14,
   "id": "ebe32dfa-883e-49d1-8b11-86ec481edf12",
   "metadata": {},
   "outputs": [
    {
     "data": {
      "text/plain": [
       "26.934497816593886"
      ]
     },
     "execution_count": 14,
     "metadata": {},
     "output_type": "execute_result"
    }
   ],
   "source": [
    "emp['Age'].mean()"
   ]
  },
  {
   "cell_type": "code",
   "execution_count": 15,
   "id": "8621c6a1-5bd5-4b8d-8d9d-94be20a9e024",
   "metadata": {},
   "outputs": [
    {
     "data": {
      "text/plain": [
       "26.0"
      ]
     },
     "execution_count": 15,
     "metadata": {},
     "output_type": "execute_result"
    }
   ],
   "source": [
    "emp['Age'].median()"
   ]
  },
  {
   "cell_type": "code",
   "execution_count": 16,
   "id": "2f68a32b-69b5-4965-8ae6-73168eeee257",
   "metadata": {},
   "outputs": [
    {
     "data": {
      "image/png": "[encoded data removed]",
      "text/plain": [
       "<Figure size 640x480 with 1 Axes>"
      ]
     },
     "metadata": {},
     "output_type": "display_data"
    },
    {
     "data": {
      "image/png": "[encoded data removed]",
      "text/plain": [
       "<Figure size 640x480 with 1 Axes>"
      ]
     },
     "metadata": {},
     "output_type": "display_data"
    }
   ],
   "source": [
    "age=emp['Age']\n",
    "plt.hist(age,bins=7,color='yellow',edgecolor='black')\n",
    "plt.xlabel('Age')\n",
    "plt.ylabel('Frequency')\n",
    "plt.title('Age group of employees')\n",
    "plt.show()\n",
    "plt.boxplot(age)\n",
    "plt.grid(True)\n",
    "plt.show()"
   ]
  },
  {
   "cell_type": "markdown",
   "id": "7f392e1d-649d-4a76-a110-43430b1a84fa",
   "metadata": {},
   "source": [
    "### <font color=\"purple\"> It looks like the predominant age group in the company is between 24 and 30</font>\n",
    "### <font color=\"purple\"> There is an outlier in age group of employees , that is 40.</font>\n",
    "### <font color=\"purple\"> Mean and Median of the age group is almost same,and it is around 26. So we can say that the average age is 26.</font>"
   ]
  },
  {
   "cell_type": "markdown",
   "id": "7f136040-7ed2-40fd-b2c9-dcba61cfd913",
   "metadata": {},
   "source": [
    "### <font color=\"orange\">4. Discover which team and position have the highest salary expenditure.</font>"
   ]
  },
  {
   "cell_type": "markdown",
   "id": "3e88a6c4-c064-443e-b415-c1e73e4e4d71",
   "metadata": {},
   "source": [
    "#### <font color=\"red\">Here use groupby() function which allows us to group data based on a single column or more.</font>"
   ]
  },
  {
   "cell_type": "code",
   "execution_count": 17,
   "id": "55a6be24-bba6-4b86-8301-423ed719e553",
   "metadata": {},
   "outputs": [
    {
     "data": {
      "text/html": [
       "<div>\n",
       "<style scoped>\n",
       "    .dataframe tbody tr th:only-of-type {\n",
       "        vertical-align: middle;\n",
       "    }\n",
       "\n",
       "    .dataframe tbody tr th {\n",
       "        vertical-align: top;\n",
       "    }\n",
       "\n",
       "    .dataframe thead th {\n",
       "        text-align: right;\n",
       "    }\n",
       "</style>\n",
       "<table border=\"1\" class=\"dataframe\">\n",
       "  <thead>\n",
       "    <tr style=\"text-align: right;\">\n",
       "      <th></th>\n",
       "      <th>Team</th>\n",
       "      <th>Position</th>\n",
       "      <th>Salary</th>\n",
       "    </tr>\n",
       "  </thead>\n",
       "  <tbody>\n",
       "    <tr>\n",
       "      <th>0</th>\n",
       "      <td>Atlanta Hawks</td>\n",
       "      <td>C</td>\n",
       "      <td>22756250.0</td>\n",
       "    </tr>\n",
       "    <tr>\n",
       "      <th>1</th>\n",
       "      <td>Atlanta Hawks</td>\n",
       "      <td>PF</td>\n",
       "      <td>23952268.0</td>\n",
       "    </tr>\n",
       "    <tr>\n",
       "      <th>2</th>\n",
       "      <td>Atlanta Hawks</td>\n",
       "      <td>PG</td>\n",
       "      <td>9763400.0</td>\n",
       "    </tr>\n",
       "    <tr>\n",
       "      <th>3</th>\n",
       "      <td>Atlanta Hawks</td>\n",
       "      <td>SF</td>\n",
       "      <td>6000000.0</td>\n",
       "    </tr>\n",
       "    <tr>\n",
       "      <th>4</th>\n",
       "      <td>Atlanta Hawks</td>\n",
       "      <td>SG</td>\n",
       "      <td>10431032.0</td>\n",
       "    </tr>\n",
       "    <tr>\n",
       "      <th>...</th>\n",
       "      <td>...</td>\n",
       "      <td>...</td>\n",
       "      <td>...</td>\n",
       "    </tr>\n",
       "    <tr>\n",
       "      <th>144</th>\n",
       "      <td>Washington Wizards</td>\n",
       "      <td>C</td>\n",
       "      <td>24490429.0</td>\n",
       "    </tr>\n",
       "    <tr>\n",
       "      <th>145</th>\n",
       "      <td>Washington Wizards</td>\n",
       "      <td>PF</td>\n",
       "      <td>11300000.0</td>\n",
       "    </tr>\n",
       "    <tr>\n",
       "      <th>146</th>\n",
       "      <td>Washington Wizards</td>\n",
       "      <td>PG</td>\n",
       "      <td>18022415.0</td>\n",
       "    </tr>\n",
       "    <tr>\n",
       "      <th>147</th>\n",
       "      <td>Washington Wizards</td>\n",
       "      <td>SF</td>\n",
       "      <td>11158800.0</td>\n",
       "    </tr>\n",
       "    <tr>\n",
       "      <th>148</th>\n",
       "      <td>Washington Wizards</td>\n",
       "      <td>SG</td>\n",
       "      <td>11356992.0</td>\n",
       "    </tr>\n",
       "  </tbody>\n",
       "</table>\n",
       "<p>149 rows × 3 columns</p>\n",
       "</div>"
      ],
      "text/plain": [
       "                   Team Position      Salary\n",
       "0         Atlanta Hawks        C  22756250.0\n",
       "1         Atlanta Hawks       PF  23952268.0\n",
       "2         Atlanta Hawks       PG   9763400.0\n",
       "3         Atlanta Hawks       SF   6000000.0\n",
       "4         Atlanta Hawks       SG  10431032.0\n",
       "..                  ...      ...         ...\n",
       "144  Washington Wizards        C  24490429.0\n",
       "145  Washington Wizards       PF  11300000.0\n",
       "146  Washington Wizards       PG  18022415.0\n",
       "147  Washington Wizards       SF  11158800.0\n",
       "148  Washington Wizards       SG  11356992.0\n",
       "\n",
       "[149 rows x 3 columns]"
      ]
     },
     "execution_count": 17,
     "metadata": {},
     "output_type": "execute_result"
    }
   ],
   "source": [
    "salary_expenditure=emp.groupby(['Team','Position'])['Salary'].sum().reset_index()\n",
    "salary_expenditure"
   ]
  },
  {
   "cell_type": "code",
   "execution_count": 18,
   "id": "b86ffe11-560b-4fa7-a6ec-8455cf8925c8",
   "metadata": {},
   "outputs": [
    {
     "name": "stdout",
     "output_type": "stream",
     "text": [
      "Team with the highest salary expenditure: Los Angeles Lakers\n",
      "Position with the highest salary expenditure within that team: SF\n",
      "Total salary expenditure: 31866445.0\n"
     ]
    }
   ],
   "source": [
    "highest_salary_team_position=salary_expenditure.loc[salary_expenditure['Salary'].idxmax()]\n",
    "print(\"Team with the highest salary expenditure:\", highest_salary_team_position['Team'])\n",
    "print(\"Position with the highest salary expenditure within that team:\", highest_salary_team_position['Position'])\n",
    "print(\"Total salary expenditure:\", highest_salary_team_position['Salary'])"
   ]
  },
  {
   "cell_type": "code",
   "execution_count": 20,
   "id": "f5d0a885-2f46-479d-bfc0-5a957ef9c3d6",
   "metadata": {},
   "outputs": [
    {
     "data": {
      "image/png": "[encoded data removed]",
      "text/plain": [
       "<Figure size 1000x600 with 1 Axes>"
      ]
     },
     "metadata": {},
     "output_type": "display_data"
    }
   ],
   "source": [
    "plt.figure(figsize=(10, 6))\n",
    "x=emp['Team']\n",
    "y=emp['Salary']\n",
    "z=emp['Position']\n",
    "plt.bar(x,y)\n",
    "plt.bar(z,y)\n",
    "plt.title('Total Salary Expenditure by Team and Position')\n",
    "plt.xlabel('Team, Position')\n",
    "plt.ylabel('Total Salary Expenditure')\n",
    "plt.xticks(rotation=90)\n",
    "plt.grid(True)\n",
    "plt.tight_layout()\n",
    "plt.show()"
   ]
  },
  {
   "cell_type": "markdown",
   "id": "87ed4694-3a2d-4f95-a58d-86dc435f4a2b",
   "metadata": {},
   "source": [
    "### <font color=\"purple\"> In ABC Company team'Los Angeles Lakers' has the highest salary expenditure.</font>\n",
    "### <font color=\"purple\"> The position 'SF' has the highest salary expenditure in 'Los Angeles Lakers' team.</font>\n",
    "### <font color=\"purple\"> The team which has lowest salary expenditure is 'Toronto Raptors'.</font>"
   ]
  },
  {
   "cell_type": "markdown",
   "id": "bae9acc8-162f-40c4-bca0-8a3b82aaaa98",
   "metadata": {},
   "source": [
    "### <font color=\"orange\">5.Investigate if there's any correlation between age and salary, and represent it visually.</font>"
   ]
  },
  {
   "cell_type": "code",
   "execution_count": 21,
   "id": "bb892bc4-ae8b-4775-9c34-c728d8a802ea",
   "metadata": {},
   "outputs": [
    {
     "data": {
      "text/plain": [
       "<bound method NDFrame.describe of      Age     Salary\n",
       "0     25  7730337.0\n",
       "1     25  6796117.0\n",
       "2     27        NaN\n",
       "3     22  1148640.0\n",
       "4     29  5000000.0\n",
       "..   ...        ...\n",
       "453   26  2433333.0\n",
       "454   24   900000.0\n",
       "455   26  2900000.0\n",
       "456   26   947276.0\n",
       "457   25   947276.0\n",
       "\n",
       "[458 rows x 2 columns]>"
      ]
     },
     "execution_count": 21,
     "metadata": {},
     "output_type": "execute_result"
    }
   ],
   "source": [
    "## Selected two columns to the consideration\n",
    "age_salary=emp[['Age','Salary']]\n",
    "age_salary.describe"
   ]
  },
  {
   "cell_type": "code",
   "execution_count": 22,
   "id": "3483d405-1b6a-42ca-a87b-5a50b0c9a522",
   "metadata": {},
   "outputs": [
    {
     "name": "stdout",
     "output_type": "stream",
     "text": [
      "             Age    Salary\n",
      "Age     1.000000  0.214009\n",
      "Salary  0.214009  1.000000\n"
     ]
    }
   ],
   "source": [
    "## Find out correlation between age and salary\n",
    "age_salary_corr=age_salary.corr()\n",
    "print(age_salary_corr)"
   ]
  },
  {
   "cell_type": "code",
   "execution_count": 23,
   "id": "8f006b42-a374-43ae-98ca-e74fcb19a2b1",
   "metadata": {},
   "outputs": [
    {
     "data": {
      "image/png": "[encoded data removed]",
      "text/plain": [
       "<Figure size 640x480 with 2 Axes>"
      ]
     },
     "metadata": {},
     "output_type": "display_data"
    }
   ],
   "source": [
    "## Represent the correlation with heatmap\n",
    "sns.heatmap(age_salary_corr,annot=True,cmap='viridis')\n",
    "plt.title('Correlation of Salary and Age')\n",
    "plt.show()"
   ]
  },
  {
   "cell_type": "markdown",
   "id": "68b55730-e94f-4fe1-b3a4-cf7ab3770e18",
   "metadata": {},
   "source": [
    "### <font color=\"purple\"> As per the heatmap there is a positive relation between age and salary,</font> \n",
    "### <font color=\"purple\"> however there is no association with age and salary in ABC Company.</font>\n"
   ]
  },
  {
   "cell_type": "markdown",
   "id": "5cfa1054-019d-4cac-b97c-7fd33d1e34cd",
   "metadata": {},
   "source": [
    "### <font color=\"brown\"> In conclusion, while 'SG' is the most prevalent position and 'Los Angeles Lakers' invests the most in salaries, there doesn't seem to be a strong correlation between age and salary. These insights can guide further analysis and decision-making processes within ABC Company. However, additional investigation may be needed to understand the outliers and factors influencing salary distribution in more depth.</font>"
   ]
  },
  {
   "cell_type": "code",
   "execution_count": null,
   "id": "63cc560c-f793-4722-adff-6fc5b0d6ee82",
   "metadata": {},
   "outputs": [],
   "source": []
  }
 ],
 "metadata": {
  "kernelspec": {
   "display_name": "Python 3 (ipykernel)",
   "language": "python",
   "name": "python3"
  },
  "language_info": {
   "codemirror_mode": {
    "name": "ipython",
    "version": 3
   },
   "file_extension": ".py",
   "mimetype": "text/x-python",
   "name": "python",
   "nbconvert_exporter": "python",
   "pygments_lexer": "ipython3",
   "version": "3.12.1"
  }
 },
 "nbformat": 4,
 "nbformat_minor": 5
}
